{
 "cells": [
  {
   "cell_type": "markdown",
   "id": "dd7ff467",
   "metadata": {},
   "source": [
    "資料類型\n",
    "變數\n",
    "tuple,list,dict\n",
    "list是一個實體,dict也是一個實體(python是全物件導向)"
   ]
  },
  {
   "cell_type": "code",
   "execution_count": 1,
   "id": "7ba1d626",
   "metadata": {},
   "outputs": [
    {
     "name": "stdout",
     "output_type": "stream",
     "text": [
      "<class 'list'>\n",
      "[1, 2, 3, 4, 5, 6]\n"
     ]
    }
   ],
   "source": [
    "#請建立一個範本list\n",
    "my_list = [1, 2, 3, 4, 5]\n",
    "print(type(my_list))\n",
    "my_list.append(6)\n",
    "print(my_list)"
   ]
  },
  {
   "cell_type": "code",
   "execution_count": 2,
   "id": "4f3f8982",
   "metadata": {},
   "outputs": [
    {
     "name": "stdout",
     "output_type": "stream",
     "text": [
      "[1, 2, 3, 4, 5, 6]\n",
      "[1, 3, 4, 5, 6]\n",
      "[1, 10, 3, 4, 5, 6]\n",
      "[1, 3, 4, 5, 6, 10]\n",
      "[10, 6, 5, 4, 3, 1]\n",
      "[]\n"
     ]
    }
   ],
   "source": [
    "#請建立一個範本list\n",
    "my_list = [1, 2, 3, 4, 5]\n",
    "#並且建立常用的實體方法\n",
    "my_list.append(6)\n",
    "print(my_list)\n",
    "my_list.remove(2)\n",
    "print(my_list)\n",
    "my_list.insert(1, 10)\n",
    "print(my_list)\n",
    "my_list.sort()\n",
    "print(my_list)\n",
    "my_list.reverse()\n",
    "print(my_list)\n",
    "my_list.clear()\n",
    "print(my_list)"
   ]
  },
  {
   "cell_type": "code",
   "execution_count": 3,
   "id": "bbb18ff5",
   "metadata": {},
   "outputs": [
    {
     "name": "stdout",
     "output_type": "stream",
     "text": [
      "2\n",
      "4\n",
      "6\n",
      "8\n",
      "10\n",
      "A\n",
      "p\n",
      "p\n",
      "l\n",
      "e\n"
     ]
    }
   ],
   "source": [
    "#我有一個list,要使用for迴圈,請將list中的每個元素乘以2\n",
    "my_list = [1, 2, 3, 4, 5]\n",
    "for i in my_list:\n",
    "    print(i * 2)\n",
    "\n",
    "for word in \"Apple\":\n",
    "    print(word)"
   ]
  },
  {
   "cell_type": "code",
   "execution_count": 4,
   "id": "84fd5e5b",
   "metadata": {},
   "outputs": [
    {
     "name": "stdout",
     "output_type": "stream",
     "text": [
      "原始字典: {'name': 'Alice', 'age': 25, 'city': 'Taipei'}\n",
      "字典類型: <class 'dict'>\n",
      "所有鍵: ['name', 'age', 'city']\n",
      "所有值: ['Alice', 25, 'Taipei']\n",
      "所有鍵值對: [('name', 'Alice'), ('age', 25), ('city', 'Taipei')]\n",
      "取得 name: Alice\n",
      "取得不存在的鍵: 未設定\n",
      "更新後: {'name': 'Alice', 'age': 25, 'city': 'Taipei', 'height': 170, 'weight': 60}\n",
      "移除年齡: 25\n",
      "移除後: {'name': 'Alice', 'city': 'Taipei', 'height': 170, 'weight': 60}\n",
      "複製的字典: {'name': 'Alice', 'city': 'Taipei', 'height': 170, 'weight': 60}\n",
      "清空後: {}\n"
     ]
    }
   ],
   "source": [
    "# Python dict 的常用實體方法\n",
    "my_dict = {\"name\": \"Alice\", \"age\": 25, \"city\": \"Taipei\"}\n",
    "print(\"原始字典:\", my_dict)\n",
    "print(\"字典類型:\", type(my_dict))\n",
    "\n",
    "# 1. keys() - 取得所有鍵\n",
    "print(\"所有鍵:\", list(my_dict.keys()))\n",
    "\n",
    "# 2. values() - 取得所有值\n",
    "print(\"所有值:\", list(my_dict.values()))\n",
    "\n",
    "# 3. items() - 取得所有鍵值對\n",
    "print(\"所有鍵值對:\", list(my_dict.items()))\n",
    "\n",
    "# 4. get() - 安全取得值\n",
    "print(\"取得 name:\", my_dict.get(\"name\"))\n",
    "print(\"取得不存在的鍵:\", my_dict.get(\"height\", \"未設定\"))\n",
    "\n",
    "# 5. update() - 更新字典\n",
    "my_dict.update({\"height\": 170, \"weight\": 60})\n",
    "print(\"更新後:\", my_dict)\n",
    "\n",
    "# 6. pop() - 移除並回傳指定鍵的值\n",
    "age = my_dict.pop(\"age\")\n",
    "print(\"移除年齡:\", age)\n",
    "print(\"移除後:\", my_dict)\n",
    "\n",
    "# 7. copy() - 複製字典\n",
    "new_dict = my_dict.copy()\n",
    "print(\"複製的字典:\", new_dict)\n",
    "\n",
    "# 8. clear() - 清空字典\n",
    "my_dict.clear()\n",
    "print(\"清空後:\", my_dict)"
   ]
  },
  {
   "cell_type": "code",
   "execution_count": 6,
   "id": "0148ac12",
   "metadata": {},
   "outputs": [],
   "source": [
    "#請建立國家code與國家名稱的字典\n",
    "country_dict = {\n",
    "    \"TW\": \"Taiwan\",\n",
    "    \"US\": \"United States\",\n",
    "    \"JP\": \"Japan\",\n",
    "    \"CN\": \"China\",\n",
    "    \"KR\": \"South Korea\"\n",
    "}"
   ]
  },
  {
   "cell_type": "code",
   "execution_count": 7,
   "id": "323b7e12",
   "metadata": {},
   "outputs": [
    {
     "name": "stdout",
     "output_type": "stream",
     "text": [
      "TW Taiwan\n",
      "US United States\n",
      "JP Japan\n",
      "CN China\n",
      "KR South Korea\n"
     ]
    }
   ],
   "source": [
    "for code in country_dict.keys():\n",
    "    print(code, country_dict[code])"
   ]
  },
  {
   "cell_type": "code",
   "execution_count": 8,
   "id": "23c14478",
   "metadata": {},
   "outputs": [
    {
     "name": "stdout",
     "output_type": "stream",
     "text": [
      "('TW', 'Taiwan')\n",
      "('US', 'United States')\n",
      "('JP', 'Japan')\n",
      "('CN', 'China')\n",
      "('KR', 'South Korea')\n"
     ]
    }
   ],
   "source": [
    "for item in country_dict.items():\n",
    "    print(item)"
   ]
  },
  {
   "cell_type": "code",
   "execution_count": 9,
   "id": "8c5ccd87",
   "metadata": {},
   "outputs": [
    {
     "name": "stdout",
     "output_type": "stream",
     "text": [
      "TW Taiwan\n",
      "US United States\n",
      "JP Japan\n",
      "CN China\n",
      "KR South Korea\n"
     ]
    }
   ],
   "source": [
    "for key, value in country_dict.items():\n",
    "    print(key, value)"
   ]
  }
 ],
 "metadata": {
  "kernelspec": {
   "display_name": "pydev",
   "language": "python",
   "name": "python3"
  },
  "language_info": {
   "codemirror_mode": {
    "name": "ipython",
    "version": 3
   },
   "file_extension": ".py",
   "mimetype": "text/x-python",
   "name": "python",
   "nbconvert_exporter": "python",
   "pygments_lexer": "ipython3",
   "version": "3.10.18"
  }
 },
 "nbformat": 4,
 "nbformat_minor": 5
}
